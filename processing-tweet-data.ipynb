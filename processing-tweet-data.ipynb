{
 "cells": [
  {
   "cell_type": "code",
   "execution_count": 2,
   "source": [
    "import json\n",
    "import pandas as pd"
   ],
   "outputs": [],
   "metadata": {}
  },
  {
   "cell_type": "code",
   "execution_count": 3,
   "source": [
    "data = []\n",
    "with open(\"./test_tweets_2021-08-03T08_30_59.json\") as f:\n",
    "    for line in f:\n",
    "        data.append(json.loads(line))"
   ],
   "outputs": [],
   "metadata": {}
  },
  {
   "cell_type": "markdown",
   "source": [
    "So, it looks like the tweets are being returned in batches of 10. \n",
    "\n",
    "List items 0-9 are the plain tweet objects. \n",
    "Item 10 is geo information. \n",
    "Item 11 is the API pagination information for the next API call. "
   ],
   "metadata": {}
  },
  {
   "cell_type": "code",
   "execution_count": 26,
   "source": [
    "data[0]"
   ],
   "outputs": [
    {
     "output_type": "execute_result",
     "data": {
      "text/plain": [
       "{'created_at': '2020-03-01T23:59:32.000Z',\n",
       " 'id': '1234267056230600705',\n",
       " 'text': \"American Psycho is trending and am I the only one who thinks it's a really horrible film? https://t.co/GO9uYOd0Bz\",\n",
       " 'geo': {'place_id': '2d17be5f3ed7f169'},\n",
       " 'author_id': '947242185329643520',\n",
       " 'public_metrics': {'retweet_count': 0,\n",
       "  'reply_count': 3,\n",
       "  'like_count': 7,\n",
       "  'quote_count': 0}}"
      ]
     },
     "metadata": {},
     "execution_count": 26
    }
   ],
   "metadata": {}
  },
  {
   "cell_type": "code",
   "execution_count": 24,
   "source": [
    "data[0]['geo']"
   ],
   "outputs": [
    {
     "output_type": "execute_result",
     "data": {
      "text/plain": [
       "{'place_id': '2d17be5f3ed7f169'}"
      ]
     },
     "metadata": {},
     "execution_count": 24
    }
   ],
   "metadata": {}
  },
  {
   "cell_type": "code",
   "execution_count": 16,
   "source": [
    "data[9].keys()"
   ],
   "outputs": [
    {
     "output_type": "execute_result",
     "data": {
      "text/plain": [
       "dict_keys(['created_at', 'id', 'text', 'geo', 'author_id', 'public_metrics'])"
      ]
     },
     "metadata": {},
     "execution_count": 16
    }
   ],
   "metadata": {}
  },
  {
   "cell_type": "code",
   "execution_count": 25,
   "source": [
    "data[10]['places']"
   ],
   "outputs": [
    {
     "output_type": "execute_result",
     "data": {
      "text/plain": [
       "[{'country': 'United Kingdom',\n",
       "  'name': 'Bargoed',\n",
       "  'id': '2d17be5f3ed7f169',\n",
       "  'country_code': 'GB',\n",
       "  'full_name': 'Bargoed, Wales',\n",
       "  'geo': {'type': 'Feature',\n",
       "   'bbox': [-3.2463649, 51.6578767, -3.2141054, 51.7003298],\n",
       "   'properties': {}},\n",
       "  'place_type': 'city'},\n",
       " {'country': 'United Kingdom',\n",
       "  'name': 'Cardiff',\n",
       "  'id': '68f3012fe4848e35',\n",
       "  'country_code': 'GB',\n",
       "  'full_name': 'Cardiff, Wales',\n",
       "  'geo': {'type': 'Feature',\n",
       "   'bbox': [-3.278624, 51.447362, -3.0809756, 51.5466412],\n",
       "   'properties': {}},\n",
       "  'place_type': 'city'},\n",
       " {'country': 'United Kingdom',\n",
       "  'name': 'Wales',\n",
       "  'id': '208d28e57bdc12e9',\n",
       "  'country_code': 'GB',\n",
       "  'full_name': 'Wales, United Kingdom',\n",
       "  'geo': {'type': 'Feature',\n",
       "   'bbox': [-5.35340678071236,\n",
       "    51.3787780012005,\n",
       "    -2.64982707940341,\n",
       "    53.4300939018827],\n",
       "   'properties': {}},\n",
       "  'place_type': 'admin'},\n",
       " {'country': 'United Kingdom',\n",
       "  'name': 'Henllan',\n",
       "  'id': '75697fe43bf5cb7d',\n",
       "  'country_code': 'GB',\n",
       "  'full_name': 'Henllan, Wales',\n",
       "  'geo': {'type': 'Feature',\n",
       "   'bbox': [-3.4672561, 53.1990947, -3.4549175, 53.2051489],\n",
       "   'properties': {}},\n",
       "  'place_type': 'city'},\n",
       " {'country': 'United Kingdom',\n",
       "  'name': 'Newport',\n",
       "  'id': '1da00c8852cc9da2',\n",
       "  'country_code': 'GB',\n",
       "  'full_name': 'Newport, Wales',\n",
       "  'geo': {'type': 'Feature',\n",
       "   'bbox': [-3.0812071, 51.549936, -2.970463, 51.621386],\n",
       "   'properties': {}},\n",
       "  'place_type': 'city'},\n",
       " {'country': 'United Kingdom',\n",
       "  'name': 'Llanelli',\n",
       "  'id': '20ce43807b0a891e',\n",
       "  'country_code': 'GB',\n",
       "  'full_name': 'Llanelli, Wales',\n",
       "  'geo': {'type': 'Feature',\n",
       "   'bbox': [-4.1952232, 51.665338, -4.0863, 51.708405],\n",
       "   'properties': {}},\n",
       "  'place_type': 'city'}]"
      ]
     },
     "metadata": {},
     "execution_count": 25
    }
   ],
   "metadata": {}
  },
  {
   "cell_type": "code",
   "execution_count": 21,
   "source": [
    "data[11].keys()"
   ],
   "outputs": [
    {
     "output_type": "execute_result",
     "data": {
      "text/plain": [
       "dict_keys(['newest_id', 'oldest_id', 'result_count', 'next_token'])"
      ]
     },
     "metadata": {},
     "execution_count": 21
    }
   ],
   "metadata": {}
  },
  {
   "cell_type": "code",
   "execution_count": 23,
   "source": [
    "data[63].keys()"
   ],
   "outputs": [
    {
     "output_type": "execute_result",
     "data": {
      "text/plain": [
       "dict_keys(['geo', 'text', 'id', 'created_at', 'public_metrics', 'author_id'])"
      ]
     },
     "metadata": {},
     "execution_count": 23
    }
   ],
   "metadata": {}
  },
  {
   "cell_type": "code",
   "execution_count": 3,
   "source": [
    "with open(\"./data.json\") as f:\n",
    "    data = json.load(f)"
   ],
   "outputs": [],
   "metadata": {}
  },
  {
   "cell_type": "code",
   "execution_count": 6,
   "source": [
    "data['data']"
   ],
   "outputs": [
    {
     "output_type": "execute_result",
     "data": {
      "text/plain": [
       "[{'author_id': '629254604',\n",
       "  'created_at': '2020-03-01T22:02:51.000Z',\n",
       "  'geo': {'place_id': '208d28e57bdc12e9'},\n",
       "  'id': '1234237691547594753',\n",
       "  'lang': 'en',\n",
       "  'public_metrics': {'like_count': 2,\n",
       "   'quote_count': 0,\n",
       "   'reply_count': 0,\n",
       "   'retweet_count': 0},\n",
       "  'referenced_tweets': [{'id': '1234235987372466179', 'type': 'replied_to'}],\n",
       "  'text': '@haynesdeborah @barbarastarrcnn Home Bargains had a 2fer on Spam....we cracked!'},\n",
       " {'author_id': '20156321',\n",
       "  'created_at': '2020-03-01T22:02:28.000Z',\n",
       "  'geo': {'place_id': '5883ce793faa25a9'},\n",
       "  'id': '1234237595888078853',\n",
       "  'lang': 'en',\n",
       "  'public_metrics': {'like_count': 2,\n",
       "   'quote_count': 0,\n",
       "   'reply_count': 2,\n",
       "   'retweet_count': 0},\n",
       "  'referenced_tweets': [{'id': '1234235991113838657', 'type': 'replied_to'}],\n",
       "  'text': '@KiranRaichura @tajdogra13 @EHPCGuildford Really valid point Kiran. However whilst poss not an indicator that content needs to change, might it mean that they don’t get enough technical feedback and support during sessions?'},\n",
       " {'author_id': '700285949515726848',\n",
       "  'created_at': '2020-03-01T22:02:27.000Z',\n",
       "  'geo': {'place_id': '308b23b23ed91e41'},\n",
       "  'id': '1234237589789519872',\n",
       "  'lang': 'en',\n",
       "  'public_metrics': {'like_count': 0,\n",
       "   'quote_count': 0,\n",
       "   'reply_count': 1,\n",
       "   'retweet_count': 0},\n",
       "  'referenced_tweets': [{'id': '1233985079413592064', 'type': 'quoted'}],\n",
       "  'text': 'Don’t Stand So Close To Me - The Police. \\nMichael Hodge used to sing it quietly into my ear in English Lit when we were 12.\\nhttps://t.co/dXuuSirtqj https://t.co/8ZwvtIejxj'},\n",
       " {'author_id': '27948074',\n",
       "  'created_at': '2020-03-01T22:02:13.000Z',\n",
       "  'geo': {'place_id': '68f3012fe4848e35'},\n",
       "  'id': '1234237534231769088',\n",
       "  'lang': 'en',\n",
       "  'public_metrics': {'like_count': 1,\n",
       "   'quote_count': 0,\n",
       "   'reply_count': 0,\n",
       "   'retweet_count': 0},\n",
       "  'referenced_tweets': [{'id': '1234236727964979202', 'type': 'replied_to'}],\n",
       "  'text': '@emmathirkill For that price, they better have ALL of the fonts.'},\n",
       " {'author_id': '218202027',\n",
       "  'created_at': '2020-03-01T22:02:03.000Z',\n",
       "  'geo': {'place_id': '47c21b55d4631f3d'},\n",
       "  'id': '1234237488773857283',\n",
       "  'lang': 'en',\n",
       "  'public_metrics': {'like_count': 15,\n",
       "   'quote_count': 0,\n",
       "   'reply_count': 1,\n",
       "   'retweet_count': 0},\n",
       "  'text': \"I couldn't get any leeks for St David's Day, so I had to make do with a couple of jumbo sized jibbons instead. #dydddewi #jibbons https://t.co/LHC4ZudPGy\"},\n",
       " {'author_id': '19123243',\n",
       "  'created_at': '2020-03-01T22:01:57.000Z',\n",
       "  'geo': {'place_id': '78a6ed74c937bd0d'},\n",
       "  'id': '1234237467424907265',\n",
       "  'lang': 'cy',\n",
       "  'public_metrics': {'like_count': 3,\n",
       "   'quote_count': 0,\n",
       "   'reply_count': 0,\n",
       "   'retweet_count': 0},\n",
       "  'text': 'Seindorf yr Oakeley! https://t.co/SjzHEqxOCl'},\n",
       " {'author_id': '198839504',\n",
       "  'created_at': '2020-03-01T22:01:57.000Z',\n",
       "  'geo': {'place_id': '208d28e57bdc12e9'},\n",
       "  'id': '1234237466883821571',\n",
       "  'lang': 'en',\n",
       "  'public_metrics': {'like_count': 0,\n",
       "   'quote_count': 0,\n",
       "   'reply_count': 0,\n",
       "   'retweet_count': 0},\n",
       "  'referenced_tweets': [{'id': '1234098597915918336', 'type': 'replied_to'}],\n",
       "  'text': '@simon_price01 @bt_uk A left-wing progressive like yourself should have been alerted by BT’s choice of flag bearers: https://t.co/rwspMhdiSm'},\n",
       " {'author_id': '1107258186225119233',\n",
       "  'created_at': '2020-03-01T22:01:55.000Z',\n",
       "  'geo': {'place_id': '2fddff37f2519cee'},\n",
       "  'id': '1234237456582610945',\n",
       "  'lang': 'en',\n",
       "  'public_metrics': {'like_count': 18,\n",
       "   'quote_count': 0,\n",
       "   'reply_count': 1,\n",
       "   'retweet_count': 1},\n",
       "  'text': 'Pouring down with rain but I have a male tawny owl calling outside the house right now.. nice.! 🦉🦉🦉🦉'},\n",
       " {'author_id': '3018837355',\n",
       "  'created_at': '2020-03-01T22:01:54.000Z',\n",
       "  'geo': {'place_id': '208d28e57bdc12e9'},\n",
       "  'id': '1234237454430998528',\n",
       "  'lang': 'ar',\n",
       "  'public_metrics': {'like_count': 0,\n",
       "   'quote_count': 0,\n",
       "   'reply_count': 0,\n",
       "   'retweet_count': 0},\n",
       "  'referenced_tweets': [{'id': '1234231044209094656', 'type': 'quoted'}],\n",
       "  'text': 'ههههههههههههههههههههه https://t.co/4DWqNqRxEQ'},\n",
       " {'author_id': '532515468',\n",
       "  'created_at': '2020-03-01T22:01:43.000Z',\n",
       "  'geo': {'place_id': '208d28e57bdc12e9'},\n",
       "  'id': '1234237407802929154',\n",
       "  'lang': 'en',\n",
       "  'public_metrics': {'like_count': 2,\n",
       "   'quote_count': 0,\n",
       "   'reply_count': 1,\n",
       "   'retweet_count': 0},\n",
       "  'referenced_tweets': [{'id': '1227703696580136966', 'type': 'replied_to'}],\n",
       "  'text': \"@Geoff_Head_Pics @RSPBWeymouth @NatureUK @Team4Nature @BBCEarth @WildlifeMag @DorsetWildlife Great shot Geoff I'm yet to see one 👍\"}]"
      ]
     },
     "metadata": {},
     "execution_count": 6
    }
   ],
   "metadata": {}
  },
  {
   "cell_type": "code",
   "execution_count": 5,
   "source": [
    "data['includes']['places'][1]['geo']['bbox']"
   ],
   "outputs": [
    {
     "output_type": "execute_result",
     "data": {
      "text/plain": [
       "[-3.3080904, 51.387271, -3.202608, 51.426868]"
      ]
     },
     "metadata": {},
     "execution_count": 5
    }
   ],
   "metadata": {}
  },
  {
   "cell_type": "code",
   "execution_count": 4,
   "source": [
    "for place in data['includes']['places']:\n",
    "    print(place['country'])"
   ],
   "outputs": [
    {
     "output_type": "stream",
     "name": "stdout",
     "text": [
      "United Kingdom\n",
      "United Kingdom\n",
      "United Kingdom\n",
      "United Kingdom\n",
      "United Kingdom\n",
      "United Kingdom\n",
      "United Kingdom\n"
     ]
    }
   ],
   "metadata": {}
  }
 ],
 "metadata": {
  "kernelspec": {
   "name": "python3",
   "display_name": "Python 3.8.5 64-bit ('cohort-twitter': conda)"
  },
  "language_info": {
   "codemirror_mode": {
    "name": "ipython",
    "version": 3
   },
   "file_extension": ".py",
   "mimetype": "text/x-python",
   "name": "python",
   "nbconvert_exporter": "python",
   "pygments_lexer": "ipython3",
   "version": "3.8.5"
  },
  "interpreter": {
   "hash": "4b7e80141f792da05b6d55e67677fc00a5b5aab4b00fffe2b8b30d25874f8277"
  }
 },
 "nbformat": 4,
 "nbformat_minor": 5
}